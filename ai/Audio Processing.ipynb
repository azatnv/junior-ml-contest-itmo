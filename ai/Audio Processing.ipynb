{
 "cells": [
  {
   "cell_type": "code",
   "execution_count": 2,
   "id": "cdc742dc",
   "metadata": {},
   "outputs": [],
   "source": [
    "import numpy as np\n",
    "import pandas as pd\n",
    "import matplotlib.pyplot as plt\n",
    "import random\n",
    "import os\n",
    "import shutil\n",
    "\n",
    "import librosa as lb\n",
    "import soundfile as sf\n",
    "import IPython.display as ipd\n",
    "import librosa.display\n",
    "\n",
    "import tensorflow as tf\n",
    "from tensorflow import keras\n",
    "import seaborn as sns\n",
    "\n",
    "from numba import jit, cuda\n",
    "\n",
    "cycle_time = 6"
   ]
  },
  {
   "cell_type": "code",
   "execution_count": 6,
   "id": "e2c99c5d",
   "metadata": {},
   "outputs": [],
   "source": [
    "patient_data = pd.read_csv(\n",
    "    '.\\Respiratory_Sound_Database\\patient_diagnosis.csv',\n",
    "    names=['pid','disease']\n",
    ")"
   ]
  },
  {
   "cell_type": "code",
   "execution_count": 7,
   "id": "ec39e241",
   "metadata": {},
   "outputs": [
    {
     "data": {
      "text/html": [
       "<div>\n",
       "<style scoped>\n",
       "    .dataframe tbody tr th:only-of-type {\n",
       "        vertical-align: middle;\n",
       "    }\n",
       "\n",
       "    .dataframe tbody tr th {\n",
       "        vertical-align: top;\n",
       "    }\n",
       "\n",
       "    .dataframe thead th {\n",
       "        text-align: right;\n",
       "    }\n",
       "</style>\n",
       "<table border=\"1\" class=\"dataframe\">\n",
       "  <thead>\n",
       "    <tr style=\"text-align: right;\">\n",
       "      <th></th>\n",
       "      <th>pid</th>\n",
       "      <th>disease</th>\n",
       "    </tr>\n",
       "  </thead>\n",
       "  <tbody>\n",
       "    <tr>\n",
       "      <th>0</th>\n",
       "      <td>101</td>\n",
       "      <td>URTI</td>\n",
       "    </tr>\n",
       "    <tr>\n",
       "      <th>1</th>\n",
       "      <td>102</td>\n",
       "      <td>Healthy</td>\n",
       "    </tr>\n",
       "    <tr>\n",
       "      <th>2</th>\n",
       "      <td>103</td>\n",
       "      <td>Asthma</td>\n",
       "    </tr>\n",
       "    <tr>\n",
       "      <th>3</th>\n",
       "      <td>104</td>\n",
       "      <td>COPD</td>\n",
       "    </tr>\n",
       "    <tr>\n",
       "      <th>4</th>\n",
       "      <td>105</td>\n",
       "      <td>URTI</td>\n",
       "    </tr>\n",
       "  </tbody>\n",
       "</table>\n",
       "</div>"
      ],
      "text/plain": [
       "   pid  disease\n",
       "0  101     URTI\n",
       "1  102  Healthy\n",
       "2  103   Asthma\n",
       "3  104     COPD\n",
       "4  105     URTI"
      ]
     },
     "execution_count": 7,
     "metadata": {},
     "output_type": "execute_result"
    }
   ],
   "source": [
    "patient_data.head()"
   ]
  },
  {
   "cell_type": "code",
   "execution_count": 44,
   "id": "d810f1d9",
   "metadata": {},
   "outputs": [
    {
     "data": {
      "text/plain": [
       "'Asthma'"
      ]
     },
     "execution_count": 44,
     "metadata": {},
     "output_type": "execute_result"
    }
   ],
   "source": [
    "patient_data[patient_data[\"pid\"] == 103].iloc[0].disease"
   ]
  },
  {
   "cell_type": "markdown",
   "id": "8d7acd18",
   "metadata": {},
   "source": [
    "### Augmentation"
   ]
  },
  {
   "cell_type": "code",
   "execution_count": 51,
   "id": "0e15c1eb",
   "metadata": {},
   "outputs": [
    {
     "data": {
      "text/plain": [
       "['101_1b1_Al_sc_Meditron',\n",
       " '101_1b1_Pr_sc_Meditron',\n",
       " '102_1b1_Ar_sc_Meditron',\n",
       " '103_2b2_Ar_mc_LittC2SE',\n",
       " '104_1b1_Al_sc_Litt3200',\n",
       " '104_1b1_Ar_sc_Litt3200',\n",
       " '104_1b1_Ll_sc_Litt3200',\n",
       " '104_1b1_Lr_sc_Litt3200',\n",
       " '104_1b1_Pl_sc_Litt3200']"
      ]
     },
     "execution_count": 51,
     "metadata": {},
     "output_type": "execute_result"
    }
   ],
   "source": [
    "path = './Respiratory_Sound_Database/audio_and_txt_files_v2/'\n",
    "file_names = [s.split('.')[0] for s in os.listdir(path) if '.txt' in s]\n",
    "file_names[:9]"
   ]
  },
  {
   "cell_type": "code",
   "execution_count": 119,
   "id": "fb62987b",
   "metadata": {},
   "outputs": [],
   "source": [
    "diseases_types = ['Asthma',\n",
    " 'Bronchiectasis',\n",
    " 'Bronchiolitis',\n",
    " 'COPD',\n",
    " 'Healthy',\n",
    " 'LRTI',\n",
    " 'Pneumonia',\n",
    " 'URTI']\n",
    "\n",
    "@jit(forceobj=True)\n",
    "def white_noise(data):\n",
    "    # Adding white noise\n",
    "    wn = np.random.randn(len(data))\n",
    "    k = random.randint(1, 9) / 1000\n",
    "    \n",
    "    data_wn = data + k * wn\n",
    "    return data_wn\n",
    "\n",
    "@jit(forceobj=True)\n",
    "def shift_sound(data, sr):\n",
    "    # Shifting the sound\n",
    "    n = int(sr * cycle_time * random.randint(1, 6))\n",
    "    \n",
    "    data_roll = np.roll(data, n)\n",
    "    \n",
    "    return data_roll\n",
    "\n",
    "@jit(forceobj=True)\n",
    "def augment_n_times(file_name, n):\n",
    "    wav_file_loc = path + file_name + '.wav'\n",
    "    txt_file_loc = path + file_name + '.txt'\n",
    "    \n",
    "    sound, sample_rate = lb.load(wav_file_loc)\n",
    "    \n",
    "    for i in range(n):\n",
    "        sound_wn = white_noise(sound)\n",
    "        \n",
    "        new_wav_path = f\"{path}{file_name}_WN{i}.wav\"\n",
    "        sf.write(file = new_wav_path, data = sound_wn, samplerate = sample_rate)\n",
    "        new_txt_path = f\"{path}{file_name}_WN{i}.txt\"\n",
    "        shutil.copyfile(txt_file_loc, new_txt_path)\n",
    "        \n",
    "        if i % 2 == 1:\n",
    "            sound_roll = shift_sound(sound, sample_rate)\n",
    "        else: sound_roll = shift_sound(sound_wn, sample_rate)\n",
    "        \n",
    "        new_wav_path = f\"{path}{file_name}_ROLL{i}.wav\"\n",
    "        sf.write(file = new_wav_path, data = sound_roll, samplerate = sample_rate)\n",
    "        new_txt_path = f\"{path}{file_name}_ROLL{i}.txt\"\n",
    "        shutil.copyfile(txt_file_loc, new_txt_path)\n",
    "\n",
    "        \n",
    "path = './Respiratory_Sound_Database/audio_and_txt_files_v2/'\n",
    "file_names = [s.split('.')[0] for s in os.listdir(path) if '.txt' in s]\n",
    "        \n",
    "for file_name in file_names:\n",
    "    patient_id = int(file_name.split(\"_\")[0])\n",
    "    patient_disease = patient_data[patient_data[\"pid\"] == patient_id].iloc[0].disease\n",
    "    \n",
    "    if patient_disease == \"Asthma\" or patient_disease == \"LRTI\":\n",
    "        augment_n_times(file_name, 8)\n",
    "    if patient_disease == \"Bronchiolitis\" or patient_disease == \"URTI\":\n",
    "        augment_n_times(file_name, 2)\n",
    "    if patient_disease == \"Pneumonia\" or patient_disease == \"Healthy\" or patient_disease == \"Bronchiectasis\":\n",
    "        augment_n_times(file_name, 1)"
   ]
  },
  {
   "cell_type": "code",
   "execution_count": 3,
   "id": "44fc4e4f",
   "metadata": {},
   "outputs": [
    {
     "data": {
      "text/plain": [
       "['101_1b1_Al_sc_Meditron',\n",
       " '101_1b1_Al_sc_Meditron_ROLL0',\n",
       " '101_1b1_Al_sc_Meditron_ROLL1',\n",
       " '101_1b1_Al_sc_Meditron_WN0',\n",
       " '101_1b1_Al_sc_Meditron_WN1',\n",
       " '101_1b1_Pr_sc_Meditron',\n",
       " '101_1b1_Pr_sc_Meditron_ROLL0',\n",
       " '101_1b1_Pr_sc_Meditron_ROLL1',\n",
       " '101_1b1_Pr_sc_Meditron_WN0']"
      ]
     },
     "execution_count": 3,
     "metadata": {},
     "output_type": "execute_result"
    }
   ],
   "source": [
    "path = './Respiratory_Sound_Database/audio_and_txt_files_v2/'\n",
    "file_names = [s.split('.')[0] for s in os.listdir(path) if '.txt' in s]\n",
    "file_names[:9]"
   ]
  },
  {
   "cell_type": "code",
   "execution_count": 142,
   "id": "3464ace8",
   "metadata": {},
   "outputs": [
    {
     "data": {
      "text/html": [
       "<div>\n",
       "<style scoped>\n",
       "    .dataframe tbody tr th:only-of-type {\n",
       "        vertical-align: middle;\n",
       "    }\n",
       "\n",
       "    .dataframe tbody tr th {\n",
       "        vertical-align: top;\n",
       "    }\n",
       "\n",
       "    .dataframe thead th {\n",
       "        text-align: right;\n",
       "    }\n",
       "</style>\n",
       "<table border=\"1\" class=\"dataframe\">\n",
       "  <thead>\n",
       "    <tr style=\"text-align: right;\">\n",
       "      <th></th>\n",
       "      <th>start</th>\n",
       "      <th>end</th>\n",
       "      <th>crackles</th>\n",
       "      <th>weezels</th>\n",
       "      <th>pid</th>\n",
       "      <th>filename</th>\n",
       "    </tr>\n",
       "  </thead>\n",
       "  <tbody>\n",
       "    <tr>\n",
       "      <th>0</th>\n",
       "      <td>0.036</td>\n",
       "      <td>0.579</td>\n",
       "      <td>0</td>\n",
       "      <td>0</td>\n",
       "      <td>101</td>\n",
       "      <td>101_1b1_Al_sc_Meditron</td>\n",
       "    </tr>\n",
       "    <tr>\n",
       "      <th>1</th>\n",
       "      <td>0.579</td>\n",
       "      <td>2.450</td>\n",
       "      <td>0</td>\n",
       "      <td>0</td>\n",
       "      <td>101</td>\n",
       "      <td>101_1b1_Al_sc_Meditron</td>\n",
       "    </tr>\n",
       "    <tr>\n",
       "      <th>2</th>\n",
       "      <td>2.450</td>\n",
       "      <td>3.893</td>\n",
       "      <td>0</td>\n",
       "      <td>0</td>\n",
       "      <td>101</td>\n",
       "      <td>101_1b1_Al_sc_Meditron</td>\n",
       "    </tr>\n",
       "    <tr>\n",
       "      <th>3</th>\n",
       "      <td>3.893</td>\n",
       "      <td>5.793</td>\n",
       "      <td>0</td>\n",
       "      <td>0</td>\n",
       "      <td>101</td>\n",
       "      <td>101_1b1_Al_sc_Meditron</td>\n",
       "    </tr>\n",
       "    <tr>\n",
       "      <th>4</th>\n",
       "      <td>5.793</td>\n",
       "      <td>7.521</td>\n",
       "      <td>0</td>\n",
       "      <td>0</td>\n",
       "      <td>101</td>\n",
       "      <td>101_1b1_Al_sc_Meditron</td>\n",
       "    </tr>\n",
       "    <tr>\n",
       "      <th>...</th>\n",
       "      <td>...</td>\n",
       "      <td>...</td>\n",
       "      <td>...</td>\n",
       "      <td>...</td>\n",
       "      <td>...</td>\n",
       "      <td>...</td>\n",
       "    </tr>\n",
       "    <tr>\n",
       "      <th>10535</th>\n",
       "      <td>11.721</td>\n",
       "      <td>13.693</td>\n",
       "      <td>1</td>\n",
       "      <td>0</td>\n",
       "      <td>226</td>\n",
       "      <td>226_1b1_Pl_sc_LittC2SE_WN0</td>\n",
       "    </tr>\n",
       "    <tr>\n",
       "      <th>10536</th>\n",
       "      <td>13.693</td>\n",
       "      <td>15.536</td>\n",
       "      <td>0</td>\n",
       "      <td>0</td>\n",
       "      <td>226</td>\n",
       "      <td>226_1b1_Pl_sc_LittC2SE_WN0</td>\n",
       "    </tr>\n",
       "    <tr>\n",
       "      <th>10537</th>\n",
       "      <td>15.536</td>\n",
       "      <td>17.493</td>\n",
       "      <td>0</td>\n",
       "      <td>0</td>\n",
       "      <td>226</td>\n",
       "      <td>226_1b1_Pl_sc_LittC2SE_WN0</td>\n",
       "    </tr>\n",
       "    <tr>\n",
       "      <th>10538</th>\n",
       "      <td>17.493</td>\n",
       "      <td>19.436</td>\n",
       "      <td>1</td>\n",
       "      <td>0</td>\n",
       "      <td>226</td>\n",
       "      <td>226_1b1_Pl_sc_LittC2SE_WN0</td>\n",
       "    </tr>\n",
       "    <tr>\n",
       "      <th>10539</th>\n",
       "      <td>19.436</td>\n",
       "      <td>19.979</td>\n",
       "      <td>0</td>\n",
       "      <td>0</td>\n",
       "      <td>226</td>\n",
       "      <td>226_1b1_Pl_sc_LittC2SE_WN0</td>\n",
       "    </tr>\n",
       "  </tbody>\n",
       "</table>\n",
       "<p>10540 rows × 6 columns</p>\n",
       "</div>"
      ],
      "text/plain": [
       "        start     end  crackles  weezels  pid                    filename\n",
       "0       0.036   0.579         0        0  101      101_1b1_Al_sc_Meditron\n",
       "1       0.579   2.450         0        0  101      101_1b1_Al_sc_Meditron\n",
       "2       2.450   3.893         0        0  101      101_1b1_Al_sc_Meditron\n",
       "3       3.893   5.793         0        0  101      101_1b1_Al_sc_Meditron\n",
       "4       5.793   7.521         0        0  101      101_1b1_Al_sc_Meditron\n",
       "...       ...     ...       ...      ...  ...                         ...\n",
       "10535  11.721  13.693         1        0  226  226_1b1_Pl_sc_LittC2SE_WN0\n",
       "10536  13.693  15.536         0        0  226  226_1b1_Pl_sc_LittC2SE_WN0\n",
       "10537  15.536  17.493         0        0  226  226_1b1_Pl_sc_LittC2SE_WN0\n",
       "10538  17.493  19.436         1        0  226  226_1b1_Pl_sc_LittC2SE_WN0\n",
       "10539  19.436  19.979         0        0  226  226_1b1_Pl_sc_LittC2SE_WN0\n",
       "\n",
       "[10540 rows x 6 columns]"
      ]
     },
     "execution_count": 142,
     "metadata": {},
     "output_type": "execute_result"
    }
   ],
   "source": [
    "files_data = []\n",
    "for file in file_names:\n",
    "    data = pd.read_csv(path + file + '.txt', sep = '\\t', names = ['start', 'end', 'crackles', 'weezels'])\n",
    "    data['pid'] = file.split('_')[0]\n",
    "    data['filename'] = file\n",
    "    files_data.append(data)\n",
    "\n",
    "files_df = pd.concat(files_data)\n",
    "files_df.reset_index(drop = True, inplace = True)\n",
    "files_df"
   ]
  },
  {
   "cell_type": "code",
   "execution_count": 143,
   "id": "5f6411a8",
   "metadata": {},
   "outputs": [],
   "source": [
    "patient_data.pid = patient_data.pid.astype('int32')\n",
    "files_df.pid = files_df.pid.astype('int32')"
   ]
  },
  {
   "cell_type": "code",
   "execution_count": 144,
   "id": "9176876b",
   "metadata": {},
   "outputs": [
    {
     "data": {
      "text/html": [
       "<div>\n",
       "<style scoped>\n",
       "    .dataframe tbody tr th:only-of-type {\n",
       "        vertical-align: middle;\n",
       "    }\n",
       "\n",
       "    .dataframe tbody tr th {\n",
       "        vertical-align: top;\n",
       "    }\n",
       "\n",
       "    .dataframe thead th {\n",
       "        text-align: right;\n",
       "    }\n",
       "</style>\n",
       "<table border=\"1\" class=\"dataframe\">\n",
       "  <thead>\n",
       "    <tr style=\"text-align: right;\">\n",
       "      <th></th>\n",
       "      <th>start</th>\n",
       "      <th>end</th>\n",
       "      <th>crackles</th>\n",
       "      <th>weezels</th>\n",
       "      <th>pid</th>\n",
       "      <th>filename</th>\n",
       "      <th>disease</th>\n",
       "    </tr>\n",
       "  </thead>\n",
       "  <tbody>\n",
       "    <tr>\n",
       "      <th>0</th>\n",
       "      <td>0.036</td>\n",
       "      <td>0.579</td>\n",
       "      <td>0</td>\n",
       "      <td>0</td>\n",
       "      <td>101</td>\n",
       "      <td>101_1b1_Al_sc_Meditron</td>\n",
       "      <td>URTI</td>\n",
       "    </tr>\n",
       "    <tr>\n",
       "      <th>1</th>\n",
       "      <td>0.579</td>\n",
       "      <td>2.450</td>\n",
       "      <td>0</td>\n",
       "      <td>0</td>\n",
       "      <td>101</td>\n",
       "      <td>101_1b1_Al_sc_Meditron</td>\n",
       "      <td>URTI</td>\n",
       "    </tr>\n",
       "    <tr>\n",
       "      <th>2</th>\n",
       "      <td>2.450</td>\n",
       "      <td>3.893</td>\n",
       "      <td>0</td>\n",
       "      <td>0</td>\n",
       "      <td>101</td>\n",
       "      <td>101_1b1_Al_sc_Meditron</td>\n",
       "      <td>URTI</td>\n",
       "    </tr>\n",
       "    <tr>\n",
       "      <th>3</th>\n",
       "      <td>3.893</td>\n",
       "      <td>5.793</td>\n",
       "      <td>0</td>\n",
       "      <td>0</td>\n",
       "      <td>101</td>\n",
       "      <td>101_1b1_Al_sc_Meditron</td>\n",
       "      <td>URTI</td>\n",
       "    </tr>\n",
       "    <tr>\n",
       "      <th>4</th>\n",
       "      <td>5.793</td>\n",
       "      <td>7.521</td>\n",
       "      <td>0</td>\n",
       "      <td>0</td>\n",
       "      <td>101</td>\n",
       "      <td>101_1b1_Al_sc_Meditron</td>\n",
       "      <td>URTI</td>\n",
       "    </tr>\n",
       "    <tr>\n",
       "      <th>...</th>\n",
       "      <td>...</td>\n",
       "      <td>...</td>\n",
       "      <td>...</td>\n",
       "      <td>...</td>\n",
       "      <td>...</td>\n",
       "      <td>...</td>\n",
       "      <td>...</td>\n",
       "    </tr>\n",
       "    <tr>\n",
       "      <th>10535</th>\n",
       "      <td>11.721</td>\n",
       "      <td>13.693</td>\n",
       "      <td>1</td>\n",
       "      <td>0</td>\n",
       "      <td>226</td>\n",
       "      <td>226_1b1_Pl_sc_LittC2SE_WN0</td>\n",
       "      <td>Pneumonia</td>\n",
       "    </tr>\n",
       "    <tr>\n",
       "      <th>10536</th>\n",
       "      <td>13.693</td>\n",
       "      <td>15.536</td>\n",
       "      <td>0</td>\n",
       "      <td>0</td>\n",
       "      <td>226</td>\n",
       "      <td>226_1b1_Pl_sc_LittC2SE_WN0</td>\n",
       "      <td>Pneumonia</td>\n",
       "    </tr>\n",
       "    <tr>\n",
       "      <th>10537</th>\n",
       "      <td>15.536</td>\n",
       "      <td>17.493</td>\n",
       "      <td>0</td>\n",
       "      <td>0</td>\n",
       "      <td>226</td>\n",
       "      <td>226_1b1_Pl_sc_LittC2SE_WN0</td>\n",
       "      <td>Pneumonia</td>\n",
       "    </tr>\n",
       "    <tr>\n",
       "      <th>10538</th>\n",
       "      <td>17.493</td>\n",
       "      <td>19.436</td>\n",
       "      <td>1</td>\n",
       "      <td>0</td>\n",
       "      <td>226</td>\n",
       "      <td>226_1b1_Pl_sc_LittC2SE_WN0</td>\n",
       "      <td>Pneumonia</td>\n",
       "    </tr>\n",
       "    <tr>\n",
       "      <th>10539</th>\n",
       "      <td>19.436</td>\n",
       "      <td>19.979</td>\n",
       "      <td>0</td>\n",
       "      <td>0</td>\n",
       "      <td>226</td>\n",
       "      <td>226_1b1_Pl_sc_LittC2SE_WN0</td>\n",
       "      <td>Pneumonia</td>\n",
       "    </tr>\n",
       "  </tbody>\n",
       "</table>\n",
       "<p>10540 rows × 7 columns</p>\n",
       "</div>"
      ],
      "text/plain": [
       "        start     end  crackles  weezels  pid                    filename  \\\n",
       "0       0.036   0.579         0        0  101      101_1b1_Al_sc_Meditron   \n",
       "1       0.579   2.450         0        0  101      101_1b1_Al_sc_Meditron   \n",
       "2       2.450   3.893         0        0  101      101_1b1_Al_sc_Meditron   \n",
       "3       3.893   5.793         0        0  101      101_1b1_Al_sc_Meditron   \n",
       "4       5.793   7.521         0        0  101      101_1b1_Al_sc_Meditron   \n",
       "...       ...     ...       ...      ...  ...                         ...   \n",
       "10535  11.721  13.693         1        0  226  226_1b1_Pl_sc_LittC2SE_WN0   \n",
       "10536  13.693  15.536         0        0  226  226_1b1_Pl_sc_LittC2SE_WN0   \n",
       "10537  15.536  17.493         0        0  226  226_1b1_Pl_sc_LittC2SE_WN0   \n",
       "10538  17.493  19.436         1        0  226  226_1b1_Pl_sc_LittC2SE_WN0   \n",
       "10539  19.436  19.979         0        0  226  226_1b1_Pl_sc_LittC2SE_WN0   \n",
       "\n",
       "         disease  \n",
       "0           URTI  \n",
       "1           URTI  \n",
       "2           URTI  \n",
       "3           URTI  \n",
       "4           URTI  \n",
       "...          ...  \n",
       "10535  Pneumonia  \n",
       "10536  Pneumonia  \n",
       "10537  Pneumonia  \n",
       "10538  Pneumonia  \n",
       "10539  Pneumonia  \n",
       "\n",
       "[10540 rows x 7 columns]"
      ]
     },
     "execution_count": 144,
     "metadata": {},
     "output_type": "execute_result"
    }
   ],
   "source": [
    "data = pd.merge(files_df, patient_data, on = 'pid')\n",
    "data"
   ]
  },
  {
   "cell_type": "code",
   "execution_count": 145,
   "id": "871c6d77",
   "metadata": {},
   "outputs": [
    {
     "name": "stderr",
     "output_type": "stream",
     "text": [
      "D:\\Program\\miniconda3\\lib\\site-packages\\seaborn\\_decorators.py:36: FutureWarning: Pass the following variable as a keyword arg: x. From version 0.12, the only valid positional argument will be `data`, and passing other arguments without an explicit keyword will result in an error or misinterpretation.\n",
      "  warnings.warn(\n"
     ]
    },
    {
     "data": {
      "text/plain": [
       "(array([0, 1, 2, 3, 4, 5, 6, 7]),\n",
       " [Text(0, 0, 'URTI'),\n",
       "  Text(1, 0, 'Healthy'),\n",
       "  Text(2, 0, 'Asthma'),\n",
       "  Text(3, 0, 'COPD'),\n",
       "  Text(4, 0, 'LRTI'),\n",
       "  Text(5, 0, 'Bronchiectasis'),\n",
       "  Text(6, 0, 'Pneumonia'),\n",
       "  Text(7, 0, 'Bronchiolitis')])"
      ]
     },
     "execution_count": 145,
     "metadata": {},
     "output_type": "execute_result"
    },
    {
     "data": {
      "image/png": "[encoded data removed]",
      "text/plain": [
       "<Figure size 432x288 with 1 Axes>"
      ]
     },
     "metadata": {
      "needs_background": "light"
     },
     "output_type": "display_data"
    }
   ],
   "source": [
    "sns.countplot(data.disease)\n",
    "plt.xticks(rotation = 90)"
   ]
  },
  {
   "cell_type": "code",
   "execution_count": 146,
   "id": "10a8bd36",
   "metadata": {},
   "outputs": [],
   "source": [
    "data.to_csv('csv_data/data_v2.csv', index = False)"
   ]
  },
  {
   "cell_type": "code",
   "execution_count": 149,
   "id": "f59c126e",
   "metadata": {},
   "outputs": [
    {
     "data": {
      "text/html": [
       "<div>\n",
       "<style scoped>\n",
       "    .dataframe tbody tr th:only-of-type {\n",
       "        vertical-align: middle;\n",
       "    }\n",
       "\n",
       "    .dataframe tbody tr th {\n",
       "        vertical-align: top;\n",
       "    }\n",
       "\n",
       "    .dataframe thead th {\n",
       "        text-align: right;\n",
       "    }\n",
       "</style>\n",
       "<table border=\"1\" class=\"dataframe\">\n",
       "  <thead>\n",
       "    <tr style=\"text-align: right;\">\n",
       "      <th></th>\n",
       "      <th>start</th>\n",
       "      <th>end</th>\n",
       "      <th>crackles</th>\n",
       "      <th>weezels</th>\n",
       "      <th>pid</th>\n",
       "      <th>filename</th>\n",
       "      <th>disease</th>\n",
       "    </tr>\n",
       "  </thead>\n",
       "  <tbody>\n",
       "    <tr>\n",
       "      <th>0</th>\n",
       "      <td>0.036</td>\n",
       "      <td>0.579</td>\n",
       "      <td>0</td>\n",
       "      <td>0</td>\n",
       "      <td>101</td>\n",
       "      <td>101_1b1_Al_sc_Meditron</td>\n",
       "      <td>URTI</td>\n",
       "    </tr>\n",
       "    <tr>\n",
       "      <th>1</th>\n",
       "      <td>0.579</td>\n",
       "      <td>2.450</td>\n",
       "      <td>0</td>\n",
       "      <td>0</td>\n",
       "      <td>101</td>\n",
       "      <td>101_1b1_Al_sc_Meditron</td>\n",
       "      <td>URTI</td>\n",
       "    </tr>\n",
       "    <tr>\n",
       "      <th>2</th>\n",
       "      <td>2.450</td>\n",
       "      <td>3.893</td>\n",
       "      <td>0</td>\n",
       "      <td>0</td>\n",
       "      <td>101</td>\n",
       "      <td>101_1b1_Al_sc_Meditron</td>\n",
       "      <td>URTI</td>\n",
       "    </tr>\n",
       "    <tr>\n",
       "      <th>3</th>\n",
       "      <td>3.893</td>\n",
       "      <td>5.793</td>\n",
       "      <td>0</td>\n",
       "      <td>0</td>\n",
       "      <td>101</td>\n",
       "      <td>101_1b1_Al_sc_Meditron</td>\n",
       "      <td>URTI</td>\n",
       "    </tr>\n",
       "    <tr>\n",
       "      <th>4</th>\n",
       "      <td>5.793</td>\n",
       "      <td>7.521</td>\n",
       "      <td>0</td>\n",
       "      <td>0</td>\n",
       "      <td>101</td>\n",
       "      <td>101_1b1_Al_sc_Meditron</td>\n",
       "      <td>URTI</td>\n",
       "    </tr>\n",
       "    <tr>\n",
       "      <th>...</th>\n",
       "      <td>...</td>\n",
       "      <td>...</td>\n",
       "      <td>...</td>\n",
       "      <td>...</td>\n",
       "      <td>...</td>\n",
       "      <td>...</td>\n",
       "      <td>...</td>\n",
       "    </tr>\n",
       "    <tr>\n",
       "      <th>6479</th>\n",
       "      <td>11.721</td>\n",
       "      <td>13.693</td>\n",
       "      <td>1</td>\n",
       "      <td>0</td>\n",
       "      <td>226</td>\n",
       "      <td>226_1b1_Pl_sc_LittC2SE_WN0</td>\n",
       "      <td>Pneumonia</td>\n",
       "    </tr>\n",
       "    <tr>\n",
       "      <th>6480</th>\n",
       "      <td>13.693</td>\n",
       "      <td>15.536</td>\n",
       "      <td>0</td>\n",
       "      <td>0</td>\n",
       "      <td>226</td>\n",
       "      <td>226_1b1_Pl_sc_LittC2SE_WN0</td>\n",
       "      <td>Pneumonia</td>\n",
       "    </tr>\n",
       "    <tr>\n",
       "      <th>6481</th>\n",
       "      <td>15.536</td>\n",
       "      <td>17.493</td>\n",
       "      <td>0</td>\n",
       "      <td>0</td>\n",
       "      <td>226</td>\n",
       "      <td>226_1b1_Pl_sc_LittC2SE_WN0</td>\n",
       "      <td>Pneumonia</td>\n",
       "    </tr>\n",
       "    <tr>\n",
       "      <th>6482</th>\n",
       "      <td>17.493</td>\n",
       "      <td>19.436</td>\n",
       "      <td>1</td>\n",
       "      <td>0</td>\n",
       "      <td>226</td>\n",
       "      <td>226_1b1_Pl_sc_LittC2SE_WN0</td>\n",
       "      <td>Pneumonia</td>\n",
       "    </tr>\n",
       "    <tr>\n",
       "      <th>6483</th>\n",
       "      <td>19.436</td>\n",
       "      <td>19.979</td>\n",
       "      <td>0</td>\n",
       "      <td>0</td>\n",
       "      <td>226</td>\n",
       "      <td>226_1b1_Pl_sc_LittC2SE_WN0</td>\n",
       "      <td>Pneumonia</td>\n",
       "    </tr>\n",
       "  </tbody>\n",
       "</table>\n",
       "<p>6484 rows × 7 columns</p>\n",
       "</div>"
      ],
      "text/plain": [
       "       start     end  crackles  weezels  pid                    filename  \\\n",
       "0      0.036   0.579         0        0  101      101_1b1_Al_sc_Meditron   \n",
       "1      0.579   2.450         0        0  101      101_1b1_Al_sc_Meditron   \n",
       "2      2.450   3.893         0        0  101      101_1b1_Al_sc_Meditron   \n",
       "3      3.893   5.793         0        0  101      101_1b1_Al_sc_Meditron   \n",
       "4      5.793   7.521         0        0  101      101_1b1_Al_sc_Meditron   \n",
       "...      ...     ...       ...      ...  ...                         ...   \n",
       "6479  11.721  13.693         1        0  226  226_1b1_Pl_sc_LittC2SE_WN0   \n",
       "6480  13.693  15.536         0        0  226  226_1b1_Pl_sc_LittC2SE_WN0   \n",
       "6481  15.536  17.493         0        0  226  226_1b1_Pl_sc_LittC2SE_WN0   \n",
       "6482  17.493  19.436         1        0  226  226_1b1_Pl_sc_LittC2SE_WN0   \n",
       "6483  19.436  19.979         0        0  226  226_1b1_Pl_sc_LittC2SE_WN0   \n",
       "\n",
       "        disease  \n",
       "0          URTI  \n",
       "1          URTI  \n",
       "2          URTI  \n",
       "3          URTI  \n",
       "4          URTI  \n",
       "...         ...  \n",
       "6479  Pneumonia  \n",
       "6480  Pneumonia  \n",
       "6481  Pneumonia  \n",
       "6482  Pneumonia  \n",
       "6483  Pneumonia  \n",
       "\n",
       "[6484 rows x 7 columns]"
      ]
     },
     "execution_count": 149,
     "metadata": {},
     "output_type": "execute_result"
    }
   ],
   "source": [
    "general = data.copy()\n",
    "for index, row in general.iterrows():\n",
    "    if row[\"disease\"] == \"COPD\" and random.randint(1, 10) > 3:\n",
    "        general = general.drop(index)\n",
    "general.reset_index(drop = True, inplace = True)\n",
    "general"
   ]
  },
  {
   "cell_type": "code",
   "execution_count": 150,
   "id": "e1be7352",
   "metadata": {},
   "outputs": [
    {
     "name": "stderr",
     "output_type": "stream",
     "text": [
      "D:\\Program\\miniconda3\\lib\\site-packages\\seaborn\\_decorators.py:36: FutureWarning: Pass the following variable as a keyword arg: x. From version 0.12, the only valid positional argument will be `data`, and passing other arguments without an explicit keyword will result in an error or misinterpretation.\n",
      "  warnings.warn(\n"
     ]
    },
    {
     "data": {
      "text/plain": [
       "(array([0, 1, 2, 3, 4, 5, 6, 7]),\n",
       " [Text(0, 0, 'URTI'),\n",
       "  Text(1, 0, 'Healthy'),\n",
       "  Text(2, 0, 'Asthma'),\n",
       "  Text(3, 0, 'COPD'),\n",
       "  Text(4, 0, 'LRTI'),\n",
       "  Text(5, 0, 'Bronchiectasis'),\n",
       "  Text(6, 0, 'Pneumonia'),\n",
       "  Text(7, 0, 'Bronchiolitis')])"
      ]
     },
     "execution_count": 150,
     "metadata": {},
     "output_type": "execute_result"
    },
    {
     "data": {
      "image/png": "[encoded data removed]",
      "text/plain": [
       "<Figure size 432x288 with 1 Axes>"
      ]
     },
     "metadata": {
      "needs_background": "light"
     },
     "output_type": "display_data"
    }
   ],
   "source": [
    "sns.countplot(general.disease)\n",
    "plt.xticks(rotation=90)"
   ]
  },
  {
   "cell_type": "markdown",
   "id": "845c6c64",
   "metadata": {},
   "source": [
    "### Processing"
   ]
  },
  {
   "cell_type": "code",
   "execution_count": 151,
   "id": "2d2b5e51",
   "metadata": {},
   "outputs": [],
   "source": [
    "os.makedirs('processed_audio_files_v2')"
   ]
  },
  {
   "cell_type": "code",
   "execution_count": 152,
   "id": "c31a4193",
   "metadata": {},
   "outputs": [
    {
     "data": {
      "text/html": [
       "<div>\n",
       "<style scoped>\n",
       "    .dataframe tbody tr th:only-of-type {\n",
       "        vertical-align: middle;\n",
       "    }\n",
       "\n",
       "    .dataframe tbody tr th {\n",
       "        vertical-align: top;\n",
       "    }\n",
       "\n",
       "    .dataframe thead th {\n",
       "        text-align: right;\n",
       "    }\n",
       "</style>\n",
       "<table border=\"1\" class=\"dataframe\">\n",
       "  <thead>\n",
       "    <tr style=\"text-align: right;\">\n",
       "      <th></th>\n",
       "      <th>start</th>\n",
       "      <th>end</th>\n",
       "      <th>crackles</th>\n",
       "      <th>weezels</th>\n",
       "      <th>pid</th>\n",
       "      <th>filename</th>\n",
       "      <th>disease</th>\n",
       "    </tr>\n",
       "  </thead>\n",
       "  <tbody>\n",
       "    <tr>\n",
       "      <th>0</th>\n",
       "      <td>0.036</td>\n",
       "      <td>0.579</td>\n",
       "      <td>0</td>\n",
       "      <td>0</td>\n",
       "      <td>101</td>\n",
       "      <td>101_1b1_Al_sc_Meditron</td>\n",
       "      <td>URTI</td>\n",
       "    </tr>\n",
       "    <tr>\n",
       "      <th>1</th>\n",
       "      <td>0.579</td>\n",
       "      <td>2.450</td>\n",
       "      <td>0</td>\n",
       "      <td>0</td>\n",
       "      <td>101</td>\n",
       "      <td>101_1b1_Al_sc_Meditron</td>\n",
       "      <td>URTI</td>\n",
       "    </tr>\n",
       "    <tr>\n",
       "      <th>2</th>\n",
       "      <td>2.450</td>\n",
       "      <td>3.893</td>\n",
       "      <td>0</td>\n",
       "      <td>0</td>\n",
       "      <td>101</td>\n",
       "      <td>101_1b1_Al_sc_Meditron</td>\n",
       "      <td>URTI</td>\n",
       "    </tr>\n",
       "    <tr>\n",
       "      <th>3</th>\n",
       "      <td>3.893</td>\n",
       "      <td>5.793</td>\n",
       "      <td>0</td>\n",
       "      <td>0</td>\n",
       "      <td>101</td>\n",
       "      <td>101_1b1_Al_sc_Meditron</td>\n",
       "      <td>URTI</td>\n",
       "    </tr>\n",
       "    <tr>\n",
       "      <th>4</th>\n",
       "      <td>5.793</td>\n",
       "      <td>7.521</td>\n",
       "      <td>0</td>\n",
       "      <td>0</td>\n",
       "      <td>101</td>\n",
       "      <td>101_1b1_Al_sc_Meditron</td>\n",
       "      <td>URTI</td>\n",
       "    </tr>\n",
       "  </tbody>\n",
       "</table>\n",
       "</div>"
      ],
      "text/plain": [
       "   start    end  crackles  weezels  pid                filename disease\n",
       "0  0.036  0.579         0        0  101  101_1b1_Al_sc_Meditron    URTI\n",
       "1  0.579  2.450         0        0  101  101_1b1_Al_sc_Meditron    URTI\n",
       "2  2.450  3.893         0        0  101  101_1b1_Al_sc_Meditron    URTI\n",
       "3  3.893  5.793         0        0  101  101_1b1_Al_sc_Meditron    URTI\n",
       "4  5.793  7.521         0        0  101  101_1b1_Al_sc_Meditron    URTI"
      ]
     },
     "execution_count": 152,
     "metadata": {},
     "output_type": "execute_result"
    }
   ],
   "source": [
    "general.head()"
   ]
  },
  {
   "cell_type": "code",
   "execution_count": 154,
   "id": "cb8a2b57",
   "metadata": {},
   "outputs": [],
   "source": [
    "def getBreathCycle(raw_data, start, end, sr = 22050):\n",
    "    '''\n",
    "    Takes a numpy array and spilts its using start and end args\n",
    "    \n",
    "    raw_data = numpy array of audio sample\n",
    "    start = time\n",
    "    end = time\n",
    "    sr = sampling_rate\n",
    "    '''\n",
    "    max_ind = len(raw_data) \n",
    "    start_ind = min(int(start * sr), max_ind)\n",
    "    end_ind = min(int(end * sr), max_ind)\n",
    "    return raw_data[start_ind:end_ind]\n",
    "\n",
    "@jit(forceobj=True)\n",
    "def processing(data, path='./Respiratory_Sound_Database/audio_and_txt_files_v2/'):\n",
    "    i, count = 0, 0\n",
    "\n",
    "    for index, row in general.iterrows():\n",
    "        start = row['start']\n",
    "        end = row['end']\n",
    "        filename = row['filename']\n",
    "\n",
    "        if end - start > cycle_time:\n",
    "            end = start + cycle_time\n",
    "\n",
    "        audio_file_loc = path + filename + '.wav'\n",
    "        audio_arr, sample_rate = lb.load(audio_file_loc)\n",
    "        breath_cycle = getBreathCycle(audio_arr, start, end, sr = sample_rate)\n",
    "\n",
    "        required_length = cycle_time * sample_rate\n",
    "        if len(breath_cycle) < required_length:\n",
    "            output_data = lb.util.pad_center(data = breath_cycle, size = required_length)\n",
    "        else:\n",
    "            output_data = breath_cycle\n",
    "\n",
    "        if index != 0:\n",
    "            if data.iloc[index - 1]['filename'] == filename:\n",
    "                i += 1\n",
    "            else:\n",
    "                i = 0\n",
    "        filename = filename + '_' + str(i) + '.wav'\n",
    "        save_path = 'processed_audio_files_v2/' + filename\n",
    "        \n",
    "        sf.write(file = save_path, data = output_data, samplerate = sample_rate)\n",
    "        count += 1\n",
    "    print('Total Files Processed: ', count)"
   ]
  },
  {
   "cell_type": "code",
   "execution_count": 155,
   "id": "74edc578",
   "metadata": {},
   "outputs": [
    {
     "name": "stdout",
     "output_type": "stream",
     "text": [
      "Total Files Processed:  6484\n"
     ]
    }
   ],
   "source": [
    "processing(general)"
   ]
  },
  {
   "cell_type": "markdown",
   "id": "4961048b",
   "metadata": {},
   "source": [
    "### Train & Validation sets"
   ]
  },
  {
   "cell_type": "code",
   "execution_count": 4,
   "id": "e0c0b23a",
   "metadata": {},
   "outputs": [
    {
     "data": {
      "text/html": [
       "<div>\n",
       "<style scoped>\n",
       "    .dataframe tbody tr th:only-of-type {\n",
       "        vertical-align: middle;\n",
       "    }\n",
       "\n",
       "    .dataframe tbody tr th {\n",
       "        vertical-align: top;\n",
       "    }\n",
       "\n",
       "    .dataframe thead th {\n",
       "        text-align: right;\n",
       "    }\n",
       "</style>\n",
       "<table border=\"1\" class=\"dataframe\">\n",
       "  <thead>\n",
       "    <tr style=\"text-align: right;\">\n",
       "      <th></th>\n",
       "      <th>pid</th>\n",
       "      <th>filename</th>\n",
       "    </tr>\n",
       "  </thead>\n",
       "  <tbody>\n",
       "    <tr>\n",
       "      <th>0</th>\n",
       "      <td>101</td>\n",
       "      <td>101_1b1_Al_sc_Meditron_0.wav</td>\n",
       "    </tr>\n",
       "    <tr>\n",
       "      <th>1</th>\n",
       "      <td>101</td>\n",
       "      <td>101_1b1_Al_sc_Meditron_1.wav</td>\n",
       "    </tr>\n",
       "    <tr>\n",
       "      <th>2</th>\n",
       "      <td>101</td>\n",
       "      <td>101_1b1_Al_sc_Meditron_10.wav</td>\n",
       "    </tr>\n",
       "    <tr>\n",
       "      <th>3</th>\n",
       "      <td>101</td>\n",
       "      <td>101_1b1_Al_sc_Meditron_11.wav</td>\n",
       "    </tr>\n",
       "    <tr>\n",
       "      <th>4</th>\n",
       "      <td>101</td>\n",
       "      <td>101_1b1_Al_sc_Meditron_2.wav</td>\n",
       "    </tr>\n",
       "  </tbody>\n",
       "</table>\n",
       "</div>"
      ],
      "text/plain": [
       "   pid                       filename\n",
       "0  101   101_1b1_Al_sc_Meditron_0.wav\n",
       "1  101   101_1b1_Al_sc_Meditron_1.wav\n",
       "2  101  101_1b1_Al_sc_Meditron_10.wav\n",
       "3  101  101_1b1_Al_sc_Meditron_11.wav\n",
       "4  101   101_1b1_Al_sc_Meditron_2.wav"
      ]
     },
     "execution_count": 4,
     "metadata": {},
     "output_type": "execute_result"
    }
   ],
   "source": [
    "path = 'processed_audio_files_v2/'\n",
    "length = len(os.listdir(path))\n",
    "index = range(length)\n",
    "files_df = pd.DataFrame(index = index, columns = ['pid', 'filename'])\n",
    "i = 0\n",
    "for file in os.listdir(path):\n",
    "    files_df.iloc[i]['pid'] = file.split('_')[0]\n",
    "    files_df.iloc[i]['filename'] = file\n",
    "    i += 1\n",
    "files_df.head()"
   ]
  },
  {
   "cell_type": "code",
   "execution_count": 8,
   "id": "e951aa04",
   "metadata": {},
   "outputs": [
    {
     "data": {
      "text/html": [
       "<div>\n",
       "<style scoped>\n",
       "    .dataframe tbody tr th:only-of-type {\n",
       "        vertical-align: middle;\n",
       "    }\n",
       "\n",
       "    .dataframe tbody tr th {\n",
       "        vertical-align: top;\n",
       "    }\n",
       "\n",
       "    .dataframe thead th {\n",
       "        text-align: right;\n",
       "    }\n",
       "</style>\n",
       "<table border=\"1\" class=\"dataframe\">\n",
       "  <thead>\n",
       "    <tr style=\"text-align: right;\">\n",
       "      <th></th>\n",
       "      <th>pid</th>\n",
       "      <th>disease</th>\n",
       "    </tr>\n",
       "  </thead>\n",
       "  <tbody>\n",
       "    <tr>\n",
       "      <th>0</th>\n",
       "      <td>101</td>\n",
       "      <td>URTI</td>\n",
       "    </tr>\n",
       "    <tr>\n",
       "      <th>1</th>\n",
       "      <td>102</td>\n",
       "      <td>Healthy</td>\n",
       "    </tr>\n",
       "    <tr>\n",
       "      <th>2</th>\n",
       "      <td>103</td>\n",
       "      <td>Asthma</td>\n",
       "    </tr>\n",
       "    <tr>\n",
       "      <th>3</th>\n",
       "      <td>104</td>\n",
       "      <td>COPD</td>\n",
       "    </tr>\n",
       "    <tr>\n",
       "      <th>4</th>\n",
       "      <td>105</td>\n",
       "      <td>URTI</td>\n",
       "    </tr>\n",
       "  </tbody>\n",
       "</table>\n",
       "</div>"
      ],
      "text/plain": [
       "   pid  disease\n",
       "0  101     URTI\n",
       "1  102  Healthy\n",
       "2  103   Asthma\n",
       "3  104     COPD\n",
       "4  105     URTI"
      ]
     },
     "execution_count": 8,
     "metadata": {},
     "output_type": "execute_result"
    }
   ],
   "source": [
    "patient_data.head()"
   ]
  },
  {
   "cell_type": "code",
   "execution_count": 9,
   "id": "ab3f22b1",
   "metadata": {},
   "outputs": [
    {
     "data": {
      "text/html": [
       "<div>\n",
       "<style scoped>\n",
       "    .dataframe tbody tr th:only-of-type {\n",
       "        vertical-align: middle;\n",
       "    }\n",
       "\n",
       "    .dataframe tbody tr th {\n",
       "        vertical-align: top;\n",
       "    }\n",
       "\n",
       "    .dataframe thead th {\n",
       "        text-align: right;\n",
       "    }\n",
       "</style>\n",
       "<table border=\"1\" class=\"dataframe\">\n",
       "  <thead>\n",
       "    <tr style=\"text-align: right;\">\n",
       "      <th></th>\n",
       "      <th>pid</th>\n",
       "      <th>filename</th>\n",
       "      <th>disease</th>\n",
       "    </tr>\n",
       "  </thead>\n",
       "  <tbody>\n",
       "    <tr>\n",
       "      <th>0</th>\n",
       "      <td>101</td>\n",
       "      <td>101_1b1_Al_sc_Meditron_0.wav</td>\n",
       "      <td>URTI</td>\n",
       "    </tr>\n",
       "    <tr>\n",
       "      <th>1</th>\n",
       "      <td>101</td>\n",
       "      <td>101_1b1_Al_sc_Meditron_1.wav</td>\n",
       "      <td>URTI</td>\n",
       "    </tr>\n",
       "    <tr>\n",
       "      <th>2</th>\n",
       "      <td>101</td>\n",
       "      <td>101_1b1_Al_sc_Meditron_10.wav</td>\n",
       "      <td>URTI</td>\n",
       "    </tr>\n",
       "    <tr>\n",
       "      <th>3</th>\n",
       "      <td>101</td>\n",
       "      <td>101_1b1_Al_sc_Meditron_11.wav</td>\n",
       "      <td>URTI</td>\n",
       "    </tr>\n",
       "    <tr>\n",
       "      <th>4</th>\n",
       "      <td>101</td>\n",
       "      <td>101_1b1_Al_sc_Meditron_2.wav</td>\n",
       "      <td>URTI</td>\n",
       "    </tr>\n",
       "    <tr>\n",
       "      <th>...</th>\n",
       "      <td>...</td>\n",
       "      <td>...</td>\n",
       "      <td>...</td>\n",
       "    </tr>\n",
       "    <tr>\n",
       "      <th>6479</th>\n",
       "      <td>226</td>\n",
       "      <td>226_1b1_Pl_sc_LittC2SE_WN0_5.wav</td>\n",
       "      <td>Pneumonia</td>\n",
       "    </tr>\n",
       "    <tr>\n",
       "      <th>6480</th>\n",
       "      <td>226</td>\n",
       "      <td>226_1b1_Pl_sc_LittC2SE_WN0_6.wav</td>\n",
       "      <td>Pneumonia</td>\n",
       "    </tr>\n",
       "    <tr>\n",
       "      <th>6481</th>\n",
       "      <td>226</td>\n",
       "      <td>226_1b1_Pl_sc_LittC2SE_WN0_7.wav</td>\n",
       "      <td>Pneumonia</td>\n",
       "    </tr>\n",
       "    <tr>\n",
       "      <th>6482</th>\n",
       "      <td>226</td>\n",
       "      <td>226_1b1_Pl_sc_LittC2SE_WN0_8.wav</td>\n",
       "      <td>Pneumonia</td>\n",
       "    </tr>\n",
       "    <tr>\n",
       "      <th>6483</th>\n",
       "      <td>226</td>\n",
       "      <td>226_1b1_Pl_sc_LittC2SE_WN0_9.wav</td>\n",
       "      <td>Pneumonia</td>\n",
       "    </tr>\n",
       "  </tbody>\n",
       "</table>\n",
       "<p>6484 rows × 3 columns</p>\n",
       "</div>"
      ],
      "text/plain": [
       "      pid                          filename    disease\n",
       "0     101      101_1b1_Al_sc_Meditron_0.wav       URTI\n",
       "1     101      101_1b1_Al_sc_Meditron_1.wav       URTI\n",
       "2     101     101_1b1_Al_sc_Meditron_10.wav       URTI\n",
       "3     101     101_1b1_Al_sc_Meditron_11.wav       URTI\n",
       "4     101      101_1b1_Al_sc_Meditron_2.wav       URTI\n",
       "...   ...                               ...        ...\n",
       "6479  226  226_1b1_Pl_sc_LittC2SE_WN0_5.wav  Pneumonia\n",
       "6480  226  226_1b1_Pl_sc_LittC2SE_WN0_6.wav  Pneumonia\n",
       "6481  226  226_1b1_Pl_sc_LittC2SE_WN0_7.wav  Pneumonia\n",
       "6482  226  226_1b1_Pl_sc_LittC2SE_WN0_8.wav  Pneumonia\n",
       "6483  226  226_1b1_Pl_sc_LittC2SE_WN0_9.wav  Pneumonia\n",
       "\n",
       "[6484 rows x 3 columns]"
      ]
     },
     "execution_count": 9,
     "metadata": {},
     "output_type": "execute_result"
    }
   ],
   "source": [
    "files_df.pid = files_df.pid.astype('int64') \n",
    "data = pd.merge(files_df, patient_data, on='pid')\n",
    "data"
   ]
  },
  {
   "cell_type": "code",
   "execution_count": 17,
   "id": "d384f72d",
   "metadata": {},
   "outputs": [],
   "source": [
    "from sklearn.model_selection import train_test_split\n",
    "Xtrain,Xval,Ytrain,Yval = train_test_split(data, data.disease, stratify=data.disease, random_state=12, test_size=0.2)"
   ]
  },
  {
   "cell_type": "code",
   "execution_count": 19,
   "id": "179891f7",
   "metadata": {},
   "outputs": [
    {
     "data": {
      "text/plain": [
       "6320           Healthy\n",
       "5486     Bronchiolitis\n",
       "2485           Healthy\n",
       "6168              COPD\n",
       "3977    Bronchiectasis\n",
       "             ...      \n",
       "3441     Bronchiolitis\n",
       "5901              COPD\n",
       "6194         Pneumonia\n",
       "171             Asthma\n",
       "1919         Pneumonia\n",
       "Name: disease, Length: 5187, dtype: object"
      ]
     },
     "execution_count": 19,
     "metadata": {},
     "output_type": "execute_result"
    }
   ],
   "source": [
    "train = Xtrain.copy()\n",
    "val = Xval.copy()\n",
    "ytrain = train.disease\n",
    "yval = val.disease\n",
    "ytrain"
   ]
  },
  {
   "cell_type": "code",
   "execution_count": 20,
   "id": "80d388c2",
   "metadata": {},
   "outputs": [],
   "source": [
    "from sklearn.preprocessing import LabelEncoder\n",
    "\n",
    "le = LabelEncoder()\n",
    "ytrain = le.fit_transform(ytrain)\n",
    "yval = le.transform(yval)"
   ]
  },
  {
   "cell_type": "code",
   "execution_count": 59,
   "id": "7cef9352",
   "metadata": {},
   "outputs": [
    {
     "data": {
      "text/plain": [
       "(array([4, 2, 4, ..., 6, 0, 6]), 5187)"
      ]
     },
     "execution_count": 59,
     "metadata": {},
     "output_type": "execute_result"
    }
   ],
   "source": [
    "ytrain, ytrain.size"
   ]
  },
  {
   "cell_type": "code",
   "execution_count": 60,
   "id": "3ac73baf",
   "metadata": {},
   "outputs": [
    {
     "data": {
      "text/plain": [
       "(array([3, 3, 6, ..., 2, 7, 7]), 1297)"
      ]
     },
     "execution_count": 60,
     "metadata": {},
     "output_type": "execute_result"
    }
   ],
   "source": [
    "yval, yval.size"
   ]
  },
  {
   "cell_type": "code",
   "execution_count": 23,
   "id": "3c88e69a",
   "metadata": {},
   "outputs": [
    {
     "data": {
      "text/plain": [
       "array(['Healthy', 'Bronchiolitis', 'Healthy', ..., 'Pneumonia', 'Asthma',\n",
       "       'Pneumonia'], dtype=object)"
      ]
     },
     "execution_count": 23,
     "metadata": {},
     "output_type": "execute_result"
    }
   ],
   "source": [
    "le.inverse_transform(ytrain)"
   ]
  },
  {
   "cell_type": "code",
   "execution_count": 24,
   "id": "125ec501",
   "metadata": {},
   "outputs": [
    {
     "data": {
      "text/plain": [
       "['Asthma',\n",
       " 'Bronchiectasis',\n",
       " 'Bronchiolitis',\n",
       " 'COPD',\n",
       " 'Healthy',\n",
       " 'LRTI',\n",
       " 'Pneumonia',\n",
       " 'URTI']"
      ]
     },
     "execution_count": 24,
     "metadata": {},
     "output_type": "execute_result"
    }
   ],
   "source": [
    "list(le.classes_)"
   ]
  },
  {
   "cell_type": "markdown",
   "id": "5432a04c",
   "metadata": {},
   "source": [
    "### Features"
   ]
  },
  {
   "cell_type": "code",
   "execution_count": 31,
   "id": "b6717ee5",
   "metadata": {},
   "outputs": [],
   "source": [
    "sound_arr, sample_rate = lb.load(\"D:\\\\ai\\\\processed_audio_files_v2\\\\103_2b2_Ar_mc_LittC2SE_2.wav\")\n",
    "mfcc = lb.feature.mfcc(y = sound_arr, sr = sample_rate)\n",
    "cstft = lb.feature.chroma_stft(y = sound_arr, sr = sample_rate)\n",
    "mSpec = lb.feature.melspectrogram(y = sound_arr, sr = sample_rate)"
   ]
  },
  {
   "cell_type": "code",
   "execution_count": 32,
   "id": "cf868ce3",
   "metadata": {},
   "outputs": [
    {
     "data": {
      "text/plain": [
       "(20, 259)"
      ]
     },
     "execution_count": 32,
     "metadata": {},
     "output_type": "execute_result"
    }
   ],
   "source": [
    "mfcc.shape"
   ]
  },
  {
   "cell_type": "code",
   "execution_count": 33,
   "id": "edfa635a",
   "metadata": {},
   "outputs": [
    {
     "data": {
      "text/plain": [
       "(12, 259)"
      ]
     },
     "execution_count": 33,
     "metadata": {},
     "output_type": "execute_result"
    }
   ],
   "source": [
    "cstft.shape"
   ]
  },
  {
   "cell_type": "code",
   "execution_count": 34,
   "id": "c0e27ae5",
   "metadata": {},
   "outputs": [
    {
     "data": {
      "text/plain": [
       "(128, 259)"
      ]
     },
     "execution_count": 34,
     "metadata": {},
     "output_type": "execute_result"
    }
   ],
   "source": [
    "mSpec.shape"
   ]
  },
  {
   "cell_type": "code",
   "execution_count": 62,
   "id": "de9c5ca0",
   "metadata": {},
   "outputs": [
    {
     "data": {
      "text/plain": [
       "<matplotlib.collections.QuadMesh at 0x2e627c4c6d0>"
      ]
     },
     "execution_count": 62,
     "metadata": {},
     "output_type": "execute_result"
    },
    {
     "data": {
      "image/png": "[encoded data removed]",
      "text/plain": [
       "<Figure size 720x288 with 1 Axes>"
      ]
     },
     "metadata": {
      "needs_background": "light"
     },
     "output_type": "display_data"
    }
   ],
   "source": [
    "plt.figure(figsize = (10, 4))\n",
    "librosa.display.specshow(mfcc, sr = sample_rate,  y_axis = 'mel', x_axis = 'time')"
   ]
  },
  {
   "cell_type": "code",
   "execution_count": 64,
   "id": "07ea1c48",
   "metadata": {},
   "outputs": [
    {
     "data": {
      "text/plain": [
       "<matplotlib.collections.QuadMesh at 0x2e627cc4ca0>"
      ]
     },
     "execution_count": 64,
     "metadata": {},
     "output_type": "execute_result"
    },
    {
     "data": {
      "image/png": "[encoded data removed]",
      "text/plain": [
       "<Figure size 720x288 with 1 Axes>"
      ]
     },
     "metadata": {
      "needs_background": "light"
     },
     "output_type": "display_data"
    }
   ],
   "source": [
    "plt.figure(figsize = (10, 4))\n",
    "librosa.display.specshow(cstft, x_axis = 'time', y_axis = 'chroma', cmap = 'coolwarm')"
   ]
  },
  {
   "cell_type": "code",
   "execution_count": 66,
   "id": "21fba30a",
   "metadata": {},
   "outputs": [
    {
     "data": {
      "text/plain": [
       "<matplotlib.colorbar.Colorbar at 0x2e627da2a60>"
      ]
     },
     "execution_count": 66,
     "metadata": {},
     "output_type": "execute_result"
    },
    {
     "data": {
      "image/png": "[encoded data removed]",
      "text/plain": [
       "<Figure size 720x288 with 2 Axes>"
      ]
     },
     "metadata": {
      "needs_background": "light"
     },
     "output_type": "display_data"
    }
   ],
   "source": [
    "fig, ax = plt.subplots(figsize = (10, 4))\n",
    "M_db = librosa.power_to_db(mSpec, ref = np.max)\n",
    "img = librosa.display.specshow(M_db, y_axis = 'mel', x_axis = 'time', ax = ax)\n",
    "ax.set(title = 'Mel spectrogram')\n",
    "fig.colorbar(img, ax = ax, format = \"%+2.f dB\")"
   ]
  },
  {
   "cell_type": "code",
   "execution_count": null,
   "id": "6e67a56a",
   "metadata": {},
   "outputs": [],
   "source": []
  },
  {
   "cell_type": "code",
   "execution_count": null,
   "id": "773f54f6",
   "metadata": {},
   "outputs": [],
   "source": []
  },
  {
   "cell_type": "code",
   "execution_count": 4,
   "id": "58c621bf",
   "metadata": {},
   "outputs": [],
   "source": [
    "@jit(forceobj=True)\n",
    "def getFeatures(path):\n",
    "    sound_arr, sample_rate = lb.load(path)\n",
    "    mfcc = lb.feature.mfcc(y = sound_arr, sr = sample_rate)\n",
    "    cstft = lb.feature.chroma_stft(y = sound_arr, sr = sample_rate)\n",
    "    mSpec = lb.feature.melspectrogram(y = sound_arr, sr = sample_rate)\n",
    "    return mfcc, cstft, mSpec"
   ]
  },
  {
   "cell_type": "code",
   "execution_count": 28,
   "id": "c994a827",
   "metadata": {},
   "outputs": [
    {
     "name": "stderr",
     "output_type": "stream",
     "text": [
      "D:\\Program\\miniconda3\\lib\\site-packages\\librosa\\util\\decorators.py:88: UserWarning: Trying to estimate tuning from empty frequency set.\n",
      "  return f(*args, **kwargs)\n"
     ]
    }
   ],
   "source": [
    "dir_path = 'processed_audio_files_v2/'\n",
    "\n",
    "mfcc,cstft,mSpec = [],[],[]\n",
    "for i, row in val.iterrows():\n",
    "    path = dir_path + row['filename']\n",
    "    a,b,c = getFeatures(path)\n",
    "    mfcc.append(a)\n",
    "    cstft.append(b)\n",
    "    mSpec.append(c)\n",
    "\n",
    "mfcc_val = np.array(mfcc)\n",
    "cstft_val = np.array(cstft)\n",
    "mSpec_val = np.array(mSpec)"
   ]
  },
  {
   "cell_type": "code",
   "execution_count": 29,
   "id": "6fdabfbf",
   "metadata": {},
   "outputs": [],
   "source": [
    "mfcc,cstft,mSpec = [],[],[]\n",
    "for i, row in train.iterrows():\n",
    "    path = dir_path + row['filename']\n",
    "    a,b,c = getFeatures(path)\n",
    "    mfcc.append(a)\n",
    "    cstft.append(b)\n",
    "    mSpec.append(c)\n",
    "    \n",
    "mfcc_train = np.array(mfcc)\n",
    "cstft_train = np.array(cstft)\n",
    "mSpec_train = np.array(mSpec)"
   ]
  },
  {
   "cell_type": "code",
   "execution_count": 36,
   "id": "58289aa0",
   "metadata": {},
   "outputs": [
    {
     "data": {
      "text/plain": [
       "(1297, 20, 259)"
      ]
     },
     "execution_count": 36,
     "metadata": {},
     "output_type": "execute_result"
    }
   ],
   "source": [
    "mfcc_val.shape"
   ]
  },
  {
   "cell_type": "code",
   "execution_count": 37,
   "id": "3b9673cf",
   "metadata": {},
   "outputs": [
    {
     "data": {
      "text/plain": [
       "(5187, 20, 259)"
      ]
     },
     "execution_count": 37,
     "metadata": {},
     "output_type": "execute_result"
    }
   ],
   "source": [
    "mfcc_train.shape"
   ]
  },
  {
   "cell_type": "code",
   "execution_count": 39,
   "id": "2eb1c655",
   "metadata": {
    "collapsed": true
   },
   "outputs": [
    {
     "data": {
      "text/plain": [
       "array([-608.4094 , -608.4094 , -608.4094 , -608.4094 , -608.4094 ,\n",
       "       -608.4094 , -608.4094 , -608.4094 , -608.4094 , -608.4094 ,\n",
       "       -608.4094 , -608.4094 , -608.4094 , -608.4094 , -608.4094 ,\n",
       "       -608.4094 , -608.4094 , -608.4094 , -608.4094 , -608.4094 ,\n",
       "       -608.4094 , -608.4094 , -608.4094 , -608.4094 , -608.4094 ,\n",
       "       -608.4094 , -608.4094 , -608.4094 , -608.4094 , -608.4094 ,\n",
       "       -608.4094 , -608.4094 , -608.4094 , -608.4094 , -608.4094 ,\n",
       "       -608.4094 , -608.4094 , -608.4094 , -608.4094 , -608.4094 ,\n",
       "       -608.4094 , -608.4094 , -608.4094 , -608.4094 , -608.4094 ,\n",
       "       -608.4094 , -608.4094 , -608.4094 , -608.4094 , -608.4094 ,\n",
       "       -608.4094 , -608.4094 , -608.4094 , -608.4094 , -608.4094 ,\n",
       "       -608.4094 , -608.4094 , -608.4094 , -608.4094 , -608.4094 ,\n",
       "       -608.4094 , -608.4094 , -608.4094 , -608.4094 , -608.4094 ,\n",
       "       -608.4094 , -608.4094 , -608.4094 , -608.4094 , -608.4094 ,\n",
       "       -608.4094 , -608.4094 , -608.4094 , -608.4094 , -608.4094 ,\n",
       "       -608.4094 , -608.4094 , -608.4094 , -608.4094 , -608.4094 ,\n",
       "       -608.4094 , -608.4094 , -608.4094 , -608.4094 , -608.4094 ,\n",
       "       -608.4094 , -608.4094 , -608.4094 , -608.4094 , -589.47894,\n",
       "       -344.24493, -274.43854, -274.3981 , -275.24527, -277.2024 ,\n",
       "       -283.96896, -289.91525, -290.31946, -287.5154 , -290.3615 ,\n",
       "       -294.64938, -290.07156, -288.5269 , -299.171  , -296.71133,\n",
       "       -291.47382, -290.817  , -288.17944, -285.22098, -288.6488 ,\n",
       "       -292.94092, -290.8877 , -289.4291 , -289.9871 , -286.7756 ,\n",
       "       -288.493  , -288.60574, -287.47726, -284.61346, -285.73785,\n",
       "       -283.73608, -287.69778, -286.06085, -287.41537, -284.66635,\n",
       "       -277.86328, -278.22537, -281.9067 , -284.12866, -284.72852,\n",
       "       -283.0201 , -286.60956, -287.08646, -287.8863 , -288.97766,\n",
       "       -287.0533 , -292.40192, -294.15762, -292.0757 , -290.20557,\n",
       "       -289.0733 , -287.14236, -288.06876, -288.39148, -294.33618,\n",
       "       -289.12286, -286.84814, -290.00565, -292.70322, -290.39517,\n",
       "       -282.40085, -284.63608, -285.43942, -285.8615 , -284.8253 ,\n",
       "       -286.18246, -286.16553, -280.99493, -273.8939 , -271.7306 ,\n",
       "       -278.88623, -285.12616, -293.99203, -296.24292, -292.55045,\n",
       "       -290.6714 , -291.95853, -277.18033, -304.76294, -465.92712,\n",
       "       -608.4094 , -608.4094 , -608.4094 , -608.4094 , -608.4094 ,\n",
       "       -608.4094 , -608.4094 , -608.4094 , -608.4094 , -608.4094 ,\n",
       "       -608.4094 , -608.4094 , -608.4094 , -608.4094 , -608.4094 ,\n",
       "       -608.4094 , -608.4094 , -608.4094 , -608.4094 , -608.4094 ,\n",
       "       -608.4094 , -608.4094 , -608.4094 , -608.4094 , -608.4094 ,\n",
       "       -608.4094 , -608.4094 , -608.4094 , -608.4094 , -608.4094 ,\n",
       "       -608.4094 , -608.4094 , -608.4094 , -608.4094 , -608.4094 ,\n",
       "       -608.4094 , -608.4094 , -608.4094 , -608.4094 , -608.4094 ,\n",
       "       -608.4094 , -608.4094 , -608.4094 , -608.4094 , -608.4094 ,\n",
       "       -608.4094 , -608.4094 , -608.4094 , -608.4094 , -608.4094 ,\n",
       "       -608.4094 , -608.4094 , -608.4094 , -608.4094 , -608.4094 ,\n",
       "       -608.4094 , -608.4094 , -608.4094 , -608.4094 , -608.4094 ,\n",
       "       -608.4094 , -608.4094 , -608.4094 , -608.4094 , -608.4094 ,\n",
       "       -608.4094 , -608.4094 , -608.4094 , -608.4094 , -608.4094 ,\n",
       "       -608.4094 , -608.4094 , -608.4094 , -608.4094 , -608.4094 ,\n",
       "       -608.4094 , -608.4094 , -608.4094 , -608.4094 , -608.4094 ,\n",
       "       -608.4094 , -608.4094 , -608.4094 , -608.4094 , -608.4094 ,\n",
       "       -608.4094 , -608.4094 , -608.4094 , -608.4094 ], dtype=float32)"
      ]
     },
     "execution_count": 39,
     "metadata": {},
     "output_type": "execute_result"
    }
   ],
   "source": [
    "mfcc_train[0,0]"
   ]
  },
  {
   "cell_type": "markdown",
   "id": "59ee61e9",
   "metadata": {},
   "source": [
    "### Model"
   ]
  },
  {
   "cell_type": "code",
   "execution_count": 40,
   "id": "1ec75af8",
   "metadata": {},
   "outputs": [],
   "source": [
    "my_callbacks = [\n",
    "    tf.keras.callbacks.EarlyStopping(patience=5),\n",
    "    tf.keras.callbacks.ReduceLROnPlateau(monitor = 'val_loss', factor = 0.1,\n",
    "                              patience = 3, min_lr = 0.00001, mode = 'min')\n",
    "]"
   ]
  },
  {
   "cell_type": "code",
   "execution_count": 10,
   "id": "68c9e8aa",
   "metadata": {
    "collapsed": true
   },
   "outputs": [
    {
     "data": {
      "image/png": "[encoded data removed]",
      "text/plain": [
       "<IPython.core.display.Image object>"
      ]
     },
     "execution_count": 10,
     "metadata": {},
     "output_type": "execute_result"
    }
   ],
   "source": [
    "mfcc_input = keras.layers.Input(shape=(20,259,1),name=\"mfccInput\")\n",
    "x = keras.layers.Conv2D(32,5,strides=(1,3),padding='same')(mfcc_input)\n",
    "x = keras.layers.BatchNormalization()(x)\n",
    "x = keras.layers.Activation(keras.activations.relu)(x)\n",
    "x = keras.layers.MaxPooling2D(pool_size=2,padding='valid')(x)\n",
    "\n",
    "x = keras.layers.Conv2D(64,3,strides=(1,2),padding='same')(x)\n",
    "x = keras.layers.BatchNormalization()(x)\n",
    "x = keras.layers.Activation(keras.activations.relu)(x)\n",
    "x = keras.layers.MaxPooling2D(pool_size=2,padding='valid')(x)\n",
    "\n",
    "x = keras.layers.Conv2D(96,2,padding='same')(x)\n",
    "x = keras.layers.BatchNormalization()(x)\n",
    "x = keras.layers.Activation(keras.activations.relu)(x)\n",
    "x = keras.layers.MaxPooling2D(pool_size=2,padding='valid')(x)\n",
    "\n",
    "x = keras.layers.Conv2D(128,2,padding='same')(x)\n",
    "x = keras.layers.BatchNormalization()(x)\n",
    "x = keras.layers.Activation(keras.activations.relu)(x)\n",
    "mfcc_output = keras.layers.GlobalMaxPooling2D()(x)\n",
    "\n",
    "mfcc_model = keras.Model(mfcc_input, mfcc_output, name=\"mfccModel\")\n",
    "\n",
    "# mfcc_model.summary()\n",
    "# keras.utils.plot_model(mfcc_model, \"mfcc_model.png\", show_shapes=True, show_layer_names=True)\n",
    "# keras.utils.plot_model(mfcc_model, \"mfcc_model_2.png\")"
   ]
  },
  {
   "cell_type": "code",
   "execution_count": 11,
   "id": "85fb10c8",
   "metadata": {
    "collapsed": true
   },
   "outputs": [
    {
     "data": {
      "image/png": "[encoded data removed]",
      "text/plain": [
       "<IPython.core.display.Image object>"
      ]
     },
     "execution_count": 11,
     "metadata": {},
     "output_type": "execute_result"
    }
   ],
   "source": [
    "croma_input = keras.layers.Input(shape=(12,259,1),name=\"cromaInput\")\n",
    "x = keras.layers.Conv2D(32,5,strides=(1,3),padding='same')(croma_input)\n",
    "x = keras.layers.BatchNormalization()(x)\n",
    "x = keras.layers.Activation(keras.activations.relu)(x)\n",
    "x = keras.layers.MaxPooling2D(pool_size=2,padding='valid')(x)\n",
    "\n",
    "x = keras.layers.Conv2D(64,3,strides=(1,2),padding='same')(x)\n",
    "x = keras.layers.BatchNormalization()(x)\n",
    "x = keras.layers.Activation(keras.activations.relu)(x)\n",
    "x = keras.layers.MaxPooling2D(pool_size=2,padding='valid')(x)\n",
    "\n",
    "x = keras.layers.Conv2D(128,2,padding='same')(x)\n",
    "x = keras.layers.BatchNormalization()(x)\n",
    "x = keras.layers.Activation(keras.activations.relu)(x)\n",
    "croma_output = keras.layers.GlobalMaxPooling2D()(x)\n",
    "\n",
    "croma_model = keras.Model(croma_input, croma_output, name=\"cromaModel\")\n",
    "\n",
    "# croma_model.summary()\n",
    "# keras.utils.plot_model(croma_model, \"croma_model.png\", show_shapes=True, show_layer_names=True)\n",
    "# keras.utils.plot_model(croma_model, \"croma_model_2.png\")"
   ]
  },
  {
   "cell_type": "code",
   "execution_count": 12,
   "id": "5b877362",
   "metadata": {
    "collapsed": true
   },
   "outputs": [
    {
     "data": {
      "image/png": "[encoded data removed]",
      "text/plain": [
       "<IPython.core.display.Image object>"
      ]
     },
     "execution_count": 12,
     "metadata": {},
     "output_type": "execute_result"
    }
   ],
   "source": [
    "mSpec_input = keras.layers.Input(shape=(128,259,1),name=\"mSpecInput\")\n",
    "x = keras.layers.Conv2D(32,5,strides=(2,3),padding='same')(mSpec_input)\n",
    "x = keras.layers.BatchNormalization()(x)\n",
    "x = keras.layers.Activation(keras.activations.relu)(x)\n",
    "x = keras.layers.MaxPooling2D(pool_size=2,padding='valid')(x)\n",
    "\n",
    "x = keras.layers.Conv2D(64,3,strides=(2,2),padding='same')(x)\n",
    "x = keras.layers.BatchNormalization()(x)\n",
    "x = keras.layers.Activation(keras.activations.relu)(x)\n",
    "x = keras.layers.MaxPooling2D(pool_size=2,padding='valid')(x)\n",
    "\n",
    "x = keras.layers.Conv2D(96,2,padding='same')(x)\n",
    "x = keras.layers.BatchNormalization()(x)\n",
    "x = keras.layers.Activation(keras.activations.relu)(x)\n",
    "x = keras.layers.MaxPooling2D(pool_size=2,padding='valid')(x)\n",
    "\n",
    "x = keras.layers.Conv2D(128,2,padding='same')(x)\n",
    "x = keras.layers.BatchNormalization()(x)\n",
    "x = keras.layers.Activation(keras.activations.relu)(x)\n",
    "mSpec_output = keras.layers.GlobalMaxPooling2D()(x)\n",
    "\n",
    "mSpec_model = keras.Model(mSpec_input, mSpec_output, name=\"mSpecModel\")\n",
    "\n",
    "# mSpec_model.summary()\n",
    "# keras.utils.plot_model(mSpec_model, \"mSpec_model.png\", show_shapes=True, show_layer_names=True)\n",
    "# keras.utils.plot_model(mSpec_model, \"mSpec_model_2.png\")"
   ]
  },
  {
   "cell_type": "code",
   "execution_count": 13,
   "id": "a6f82f7a",
   "metadata": {
    "collapsed": true
   },
   "outputs": [
    {
     "data": {
      "image/png": "[encoded data removed]",
      "text/plain": [
       "<IPython.core.display.Image object>"
      ]
     },
     "execution_count": 13,
     "metadata": {},
     "output_type": "execute_result"
    }
   ],
   "source": [
    "input_mfcc = keras.layers.Input(shape=(20,259,1),name=\"mfcc\")\n",
    "mfcc = mfcc_model(input_mfcc)\n",
    "\n",
    "input_croma = keras.layers.Input(shape=(12,259,1),name=\"croma\")\n",
    "croma = croma_model(input_croma)\n",
    "\n",
    "input_mSpec = keras.layers.Input(shape=(128,259,1),name=\"mspec\")\n",
    "mSpec = mSpec_model(input_mSpec)\n",
    "\n",
    "concat = keras.layers.concatenate([mfcc,croma,mSpec])\n",
    "hidden = keras.layers.Dense(50,activation='relu')(concat)\n",
    "hidden = keras.layers.Dropout(0.3)(hidden)\n",
    "hidden = keras.layers.Dense(25,activation='relu')(hidden)\n",
    "hidden = keras.layers.Dropout(0.3)(hidden)\n",
    "output = keras.layers.Dense(8,activation='softmax')(hidden)\n",
    "\n",
    "net = keras.Model([input_mfcc, input_croma, input_mSpec], output, name=\"Net\")\n",
    "\n",
    "# net.summary()\n",
    "# keras.utils.plot_model(net, \"model.png\", show_shapes=True, show_layer_names=True)\n",
    "# keras.utils.plot_model(net, \"model_2.png\")"
   ]
  },
  {
   "cell_type": "code",
   "execution_count": 14,
   "id": "bcebdb4c",
   "metadata": {
    "collapsed": true
   },
   "outputs": [
    {
     "data": {
      "image/png": "[encoded data removed]",
      "text/plain": [
       "<IPython.core.display.Image object>"
      ]
     },
     "execution_count": 14,
     "metadata": {},
     "output_type": "execute_result"
    }
   ],
   "source": [
    "keras.utils.plot_model(net, \"model.png\", show_shapes=True, show_layer_names=True)"
   ]
  },
  {
   "cell_type": "code",
   "execution_count": 46,
   "id": "ba75a4cf",
   "metadata": {},
   "outputs": [],
   "source": [
    "from keras import backend as K\n",
    "net.compile(\n",
    "    loss = 'sparse_categorical_crossentropy',\n",
    "    optimizer = 'nadam',\n",
    "    metrics = ['accuracy']\n",
    ")\n",
    "K.set_value(net.optimizer.learning_rate, 0.001)"
   ]
  },
  {
   "cell_type": "code",
   "execution_count": 47,
   "id": "4d8f7818",
   "metadata": {},
   "outputs": [],
   "source": [
    "history = net.fit(\n",
    "    {\"mfcc\": mfcc_train,\"croma\": cstft_train,\"mspec\": mSpec_train},\n",
    "    ytrain, batch_size = 100,\n",
    "    validation_data = ({\"mfcc\": mfcc_val,\"croma\": cstft_val,\"mspec\": mSpec_val}, yval),\n",
    "    epochs = 100, verbose = 0,\n",
    "    callbacks = my_callbacks\n",
    ")"
   ]
  },
  {
   "cell_type": "code",
   "execution_count": 48,
   "id": "4f718072",
   "metadata": {},
   "outputs": [
    {
     "data": {
      "image/png": "[encoded data removed]",
      "text/plain": [
       "<Figure size 432x288 with 1 Axes>"
      ]
     },
     "metadata": {
      "needs_background": "light"
     },
     "output_type": "display_data"
    }
   ],
   "source": [
    "pd.DataFrame(history.history).plot()\n",
    "plt.grid(True)\n",
    "plt.gca().set_ylim(-0.1,1.1)\n",
    "plt.show()"
   ]
  },
  {
   "cell_type": "code",
   "execution_count": 49,
   "id": "591600d0",
   "metadata": {},
   "outputs": [
    {
     "name": "stdout",
     "output_type": "stream",
     "text": [
      "41/41 [==============================] - 1s 11ms/step - loss: 0.3680 - accuracy: 0.8674\n"
     ]
    },
    {
     "data": {
      "text/plain": [
       "[0.3679761588573456, 0.8673862814903259]"
      ]
     },
     "execution_count": 49,
     "metadata": {},
     "output_type": "execute_result"
    }
   ],
   "source": [
    "net.evaluate({\"mfcc\": mfcc_val,\"croma\": cstft_val,\"mspec\": mSpec_val}, yval)"
   ]
  },
  {
   "cell_type": "markdown",
   "id": "de5f0006",
   "metadata": {},
   "source": [
    "## Evaluation"
   ]
  },
  {
   "cell_type": "code",
   "execution_count": 54,
   "id": "b20b2738",
   "metadata": {
    "scrolled": false
   },
   "outputs": [
    {
     "name": "stdout",
     "output_type": "stream",
     "text": [
      "Accuracy: 87%\n",
      "Loss: 0.3680\n",
      "\n"
     ]
    },
    {
     "data": {
      "text/plain": [
       "<matplotlib.legend.Legend at 0x1aee97a3310>"
      ]
     },
     "execution_count": 54,
     "metadata": {},
     "output_type": "execute_result"
    },
    {
     "data": {
      "image/png": "[encoded data removed]",
      "text/plain": [
       "<Figure size 1080x360 with 2 Axes>"
      ]
     },
     "metadata": {
      "needs_background": "light"
     },
     "output_type": "display_data"
    }
   ],
   "source": [
    "score = net.evaluate({\"mfcc\": mfcc_val,\"croma\": cstft_val,\"mspec\": mSpec_val}, yval, verbose=0)\n",
    "print('Accuracy: {0:.0%}'.format(score[1]/1))\n",
    "print(\"Loss: %.4f\\n\" % score[0])\n",
    "\n",
    "# Plot accuracy and loss graphs\n",
    "plt.figure(figsize = (15,5))\n",
    "plt.subplot(1,2,1)\n",
    "plt.title('Accuracy')\n",
    "plt.plot(history.history['accuracy'], label = 'training acc')\n",
    "plt.plot(history.history['val_accuracy'], label = 'validation acc')\n",
    "plt.legend()\n",
    "\n",
    "plt.subplot(1,2,2)\n",
    "plt.title('Loss')\n",
    "plt.plot(history.history['loss'], label = 'training loss')\n",
    "plt.plot(history.history['val_loss'], label = 'validation loss')\n",
    "plt.legend()"
   ]
  },
  {
   "cell_type": "code",
   "execution_count": 55,
   "id": "9a97fa83",
   "metadata": {},
   "outputs": [
    {
     "name": "stdout",
     "output_type": "stream",
     "text": [
      "41/41 [==============================] - 0s 6ms/step\n",
      "                precision    recall  f1-score   support\n",
      "\n",
      "        Asthma       1.00      0.95      0.97        20\n",
      "Bronchiectasis       0.95      0.95      0.95        63\n",
      " Bronchiolitis       0.87      0.81      0.84       160\n",
      "          COPD       0.98      0.97      0.97       338\n",
      "       Healthy       0.74      0.72      0.73       193\n",
      "          LRTI       0.94      0.96      0.95       109\n",
      "     Pneumonia       0.88      0.86      0.87       171\n",
      "          URTI       0.75      0.82      0.78       243\n",
      "\n",
      "      accuracy                           0.87      1297\n",
      "     macro avg       0.89      0.88      0.88      1297\n",
      "  weighted avg       0.87      0.87      0.87      1297\n",
      "\n"
     ]
    },
    {
     "data": {
      "text/plain": [
       "<AxesSubplot:xlabel='Predicted', ylabel='Actual'>"
      ]
     },
     "execution_count": 55,
     "metadata": {},
     "output_type": "execute_result"
    },
    {
     "data": {
      "image/png": "[encoded data removed]",
      "text/plain": [
       "<Figure size 720x504 with 2 Axes>"
      ]
     },
     "metadata": {
      "needs_background": "light"
     },
     "output_type": "display_data"
    }
   ],
   "source": [
    "from sklearn.metrics import classification_report, confusion_matrix\n",
    "matrix_index = list(le.classes_)\n",
    "\n",
    "preds = net.predict({\"mfcc\":mfcc_val,\"croma\":cstft_val,\"mspec\":mSpec_val})\n",
    "classpreds = np.argmax(preds, axis=1) # predicted classes \n",
    "y_testclass = yval # true classes\n",
    "\n",
    "cm = confusion_matrix(y_testclass, classpreds)\n",
    "print(classification_report(y_testclass, classpreds, target_names=matrix_index))\n",
    "\n",
    "# Get percentage value for each element of the matrix\n",
    "cm_sum = np.sum(cm, axis=1, keepdims=True)\n",
    "cm_perc = cm / cm_sum.astype(float) * 100\n",
    "annot = np.empty_like(cm).astype(str)\n",
    "nrows, ncols = cm.shape\n",
    "for i in range(nrows):\n",
    "    for j in range(ncols):\n",
    "        c = cm[i, j]\n",
    "        p = cm_perc[i, j]\n",
    "        if i == j:\n",
    "            s = cm_sum[i]\n",
    "            annot[i, j] = '%.1f%%\\n%d/%d' % (p, c, s)\n",
    "        elif c == 0:\n",
    "            annot[i, j] = ''\n",
    "        else:\n",
    "            annot[i, j] = '%.1f%%\\n%d' % (p, c)\n",
    "\n",
    "\n",
    "# Display confusion matrix \n",
    "df_cm = pd.DataFrame(cm, index = matrix_index, columns = matrix_index)\n",
    "df_cm.index.name = 'Actual'\n",
    "df_cm.columns.name = 'Predicted'\n",
    "fig, ax = plt.subplots(figsize=(10,7))\n",
    "sns.heatmap(df_cm, annot=annot, fmt='')"
   ]
  },
  {
   "cell_type": "code",
   "execution_count": 56,
   "id": "7a75c664",
   "metadata": {},
   "outputs": [],
   "source": [
    "net.save('model_v2.h5')"
   ]
  },
  {
   "cell_type": "code",
   "execution_count": null,
   "id": "f3f83961",
   "metadata": {},
   "outputs": [],
   "source": []
  },
  {
   "cell_type": "code",
   "execution_count": null,
   "id": "e0133deb",
   "metadata": {},
   "outputs": [],
   "source": []
  },
  {
   "cell_type": "code",
   "execution_count": null,
   "id": "6ba267b4",
   "metadata": {},
   "outputs": [],
   "source": []
  },
  {
   "cell_type": "code",
   "execution_count": null,
   "id": "1dc9c432",
   "metadata": {},
   "outputs": [],
   "source": []
  },
  {
   "cell_type": "code",
   "execution_count": null,
   "id": "5e26e4d4",
   "metadata": {},
   "outputs": [],
   "source": []
  },
  {
   "cell_type": "code",
   "execution_count": 2,
   "id": "4b32de7a",
   "metadata": {},
   "outputs": [],
   "source": [
    "import pandas as pd\n",
    "patient_data=pd.read_csv(\n",
    "    '.\\Respiratory_Sound_Database\\patient_diagnosis.csv',\n",
    "    names=['pid','disease']\n",
    ")"
   ]
  },
  {
   "cell_type": "code",
   "execution_count": 5,
   "id": "4dfd1150",
   "metadata": {
    "collapsed": true
   },
   "outputs": [
    {
     "data": {
      "text/html": [
       "<div>\n",
       "<style scoped>\n",
       "    .dataframe tbody tr th:only-of-type {\n",
       "        vertical-align: middle;\n",
       "    }\n",
       "\n",
       "    .dataframe tbody tr th {\n",
       "        vertical-align: top;\n",
       "    }\n",
       "\n",
       "    .dataframe thead th {\n",
       "        text-align: right;\n",
       "    }\n",
       "</style>\n",
       "<table border=\"1\" class=\"dataframe\">\n",
       "  <thead>\n",
       "    <tr style=\"text-align: right;\">\n",
       "      <th></th>\n",
       "      <th>pid</th>\n",
       "      <th>disease</th>\n",
       "    </tr>\n",
       "  </thead>\n",
       "  <tbody>\n",
       "    <tr>\n",
       "      <th>1</th>\n",
       "      <td>102</td>\n",
       "      <td>Healthy</td>\n",
       "    </tr>\n",
       "    <tr>\n",
       "      <th>20</th>\n",
       "      <td>121</td>\n",
       "      <td>Healthy</td>\n",
       "    </tr>\n",
       "    <tr>\n",
       "      <th>22</th>\n",
       "      <td>123</td>\n",
       "      <td>Healthy</td>\n",
       "    </tr>\n",
       "    <tr>\n",
       "      <th>24</th>\n",
       "      <td>125</td>\n",
       "      <td>Healthy</td>\n",
       "    </tr>\n",
       "    <tr>\n",
       "      <th>25</th>\n",
       "      <td>126</td>\n",
       "      <td>Healthy</td>\n",
       "    </tr>\n",
       "    <tr>\n",
       "      <th>26</th>\n",
       "      <td>127</td>\n",
       "      <td>Healthy</td>\n",
       "    </tr>\n",
       "    <tr>\n",
       "      <th>35</th>\n",
       "      <td>136</td>\n",
       "      <td>Healthy</td>\n",
       "    </tr>\n",
       "    <tr>\n",
       "      <th>42</th>\n",
       "      <td>143</td>\n",
       "      <td>Healthy</td>\n",
       "    </tr>\n",
       "    <tr>\n",
       "      <th>43</th>\n",
       "      <td>144</td>\n",
       "      <td>Healthy</td>\n",
       "    </tr>\n",
       "    <tr>\n",
       "      <th>51</th>\n",
       "      <td>152</td>\n",
       "      <td>Healthy</td>\n",
       "    </tr>\n",
       "    <tr>\n",
       "      <th>52</th>\n",
       "      <td>153</td>\n",
       "      <td>Healthy</td>\n",
       "    </tr>\n",
       "    <tr>\n",
       "      <th>58</th>\n",
       "      <td>159</td>\n",
       "      <td>Healthy</td>\n",
       "    </tr>\n",
       "    <tr>\n",
       "      <th>70</th>\n",
       "      <td>171</td>\n",
       "      <td>Healthy</td>\n",
       "    </tr>\n",
       "    <tr>\n",
       "      <th>78</th>\n",
       "      <td>179</td>\n",
       "      <td>Healthy</td>\n",
       "    </tr>\n",
       "    <tr>\n",
       "      <th>81</th>\n",
       "      <td>182</td>\n",
       "      <td>Healthy</td>\n",
       "    </tr>\n",
       "    <tr>\n",
       "      <th>82</th>\n",
       "      <td>183</td>\n",
       "      <td>Healthy</td>\n",
       "    </tr>\n",
       "    <tr>\n",
       "      <th>83</th>\n",
       "      <td>184</td>\n",
       "      <td>Healthy</td>\n",
       "    </tr>\n",
       "    <tr>\n",
       "      <th>86</th>\n",
       "      <td>187</td>\n",
       "      <td>Healthy</td>\n",
       "    </tr>\n",
       "    <tr>\n",
       "      <th>93</th>\n",
       "      <td>194</td>\n",
       "      <td>Healthy</td>\n",
       "    </tr>\n",
       "    <tr>\n",
       "      <th>101</th>\n",
       "      <td>202</td>\n",
       "      <td>Healthy</td>\n",
       "    </tr>\n",
       "    <tr>\n",
       "      <th>107</th>\n",
       "      <td>208</td>\n",
       "      <td>Healthy</td>\n",
       "    </tr>\n",
       "    <tr>\n",
       "      <th>108</th>\n",
       "      <td>209</td>\n",
       "      <td>Healthy</td>\n",
       "    </tr>\n",
       "    <tr>\n",
       "      <th>113</th>\n",
       "      <td>214</td>\n",
       "      <td>Healthy</td>\n",
       "    </tr>\n",
       "    <tr>\n",
       "      <th>116</th>\n",
       "      <td>217</td>\n",
       "      <td>Healthy</td>\n",
       "    </tr>\n",
       "    <tr>\n",
       "      <th>123</th>\n",
       "      <td>224</td>\n",
       "      <td>Healthy</td>\n",
       "    </tr>\n",
       "    <tr>\n",
       "      <th>124</th>\n",
       "      <td>225</td>\n",
       "      <td>Healthy</td>\n",
       "    </tr>\n",
       "  </tbody>\n",
       "</table>\n",
       "</div>"
      ],
      "text/plain": [
       "     pid  disease\n",
       "1    102  Healthy\n",
       "20   121  Healthy\n",
       "22   123  Healthy\n",
       "24   125  Healthy\n",
       "25   126  Healthy\n",
       "26   127  Healthy\n",
       "35   136  Healthy\n",
       "42   143  Healthy\n",
       "43   144  Healthy\n",
       "51   152  Healthy\n",
       "52   153  Healthy\n",
       "58   159  Healthy\n",
       "70   171  Healthy\n",
       "78   179  Healthy\n",
       "81   182  Healthy\n",
       "82   183  Healthy\n",
       "83   184  Healthy\n",
       "86   187  Healthy\n",
       "93   194  Healthy\n",
       "101  202  Healthy\n",
       "107  208  Healthy\n",
       "108  209  Healthy\n",
       "113  214  Healthy\n",
       "116  217  Healthy\n",
       "123  224  Healthy\n",
       "124  225  Healthy"
      ]
     },
     "execution_count": 5,
     "metadata": {},
     "output_type": "execute_result"
    }
   ],
   "source": [
    "patient_data[patient_data['disease'] == 'Healthy']"
   ]
  },
  {
   "cell_type": "code",
   "execution_count": 3,
   "id": "f37753fe",
   "metadata": {
    "scrolled": true
   },
   "outputs": [
    {
     "data": {
      "text/html": [
       "<div>\n",
       "<style scoped>\n",
       "    .dataframe tbody tr th:only-of-type {\n",
       "        vertical-align: middle;\n",
       "    }\n",
       "\n",
       "    .dataframe tbody tr th {\n",
       "        vertical-align: top;\n",
       "    }\n",
       "\n",
       "    .dataframe thead th {\n",
       "        text-align: right;\n",
       "    }\n",
       "</style>\n",
       "<table border=\"1\" class=\"dataframe\">\n",
       "  <thead>\n",
       "    <tr style=\"text-align: right;\">\n",
       "      <th></th>\n",
       "      <th>pid</th>\n",
       "      <th>disease</th>\n",
       "    </tr>\n",
       "  </thead>\n",
       "  <tbody>\n",
       "    <tr>\n",
       "      <th>19</th>\n",
       "      <td>120</td>\n",
       "      <td>COPD</td>\n",
       "    </tr>\n",
       "  </tbody>\n",
       "</table>\n",
       "</div>"
      ],
      "text/plain": [
       "    pid disease\n",
       "19  120    COPD"
      ]
     },
     "execution_count": 3,
     "metadata": {},
     "output_type": "execute_result"
    }
   ],
   "source": [
    "patient_data[patient_data['pid'] == 120]"
   ]
  },
  {
   "cell_type": "code",
   "execution_count": null,
   "id": "535e25f9",
   "metadata": {},
   "outputs": [],
   "source": []
  },
  {
   "cell_type": "code",
   "execution_count": null,
   "id": "26726e24",
   "metadata": {},
   "outputs": [],
   "source": []
  },
  {
   "cell_type": "code",
   "execution_count": null,
   "id": "c18252f1",
   "metadata": {},
   "outputs": [],
   "source": []
  }
 ],
 "metadata": {
  "kernelspec": {
   "display_name": "3.10 diplom",
   "language": "python",
   "name": "python3"
  },
  "language_info": {
   "codemirror_mode": {
    "name": "ipython",
    "version": 3
   },
   "file_extension": ".py",
   "mimetype": "text/x-python",
   "name": "python",
   "nbconvert_exporter": "python",
   "pygments_lexer": "ipython3",
   "version": "3.9.7"
  }
 },
 "nbformat": 4,
 "nbformat_minor": 5
}
